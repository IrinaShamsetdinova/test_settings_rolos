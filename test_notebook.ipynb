{
 "cells": [
  {
   "cell_type": "code",
   "execution_count": null,
   "metadata": {},
   "outputs": [],
   "source": [
    "# Addition of two numbers\n",
    "num1 = 20\n",
    "num2 = 10\n",
    "result = num1 + num2\n",
    "\n",
    "# Printing the result\n",
    "print(\"The sum of\", num1, \"and\", num2, \"is:\", result)"
   ]
  }
 ],
 "metadata": {
  "language_info": {
   "name": "python"
  },
  "orig_nbformat": 4
 },
 "nbformat": 4,
 "nbformat_minor": 2
}
